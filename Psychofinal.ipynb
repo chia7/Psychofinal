{
 "cells": [
  {
   "cell_type": "code",
   "execution_count": 34,
   "metadata": {
    "collapsed": true
   },
   "outputs": [],
   "source": [
    "import numpy as np\n",
    "import pandas as pd\n",
    "\n",
    "import matplotlib\n",
    "import matplotlib.pyplot as plt\n",
    "\n",
    "import seaborn as sns\n",
    "\n",
    "%matplotlib inline"
   ]
  },
  {
   "cell_type": "markdown",
   "metadata": {},
   "source": [
    "---------------------------------------\n",
    "<br>\n",
    "<br>\n",
    "## Data reading"
   ]
  },
  {
   "cell_type": "code",
   "execution_count": 4,
   "metadata": {
    "collapsed": true
   },
   "outputs": [],
   "source": [
    "feature = pd.read_csv('data/Psychofinal.csv')\n",
    "header = feature.columns.values"
   ]
  },
  {
   "cell_type": "code",
   "execution_count": 5,
   "metadata": {
    "collapsed": false
   },
   "outputs": [
    {
     "data": {
      "text/plain": [
       "(168, 27)"
      ]
     },
     "execution_count": 5,
     "metadata": {},
     "output_type": "execute_result"
    }
   ],
   "source": [
    "feature.shape"
   ]
  },
  {
   "cell_type": "markdown",
   "metadata": {},
   "source": [
    "The dataset contains results of 168 subjects over 27 features."
   ]
  },
  {
   "cell_type": "code",
   "execution_count": 7,
   "metadata": {
    "collapsed": false
   },
   "outputs": [
    {
     "data": {
      "text/html": [
       "<div>\n",
       "<table border=\"1\" class=\"dataframe\">\n",
       "  <thead>\n",
       "    <tr style=\"text-align: right;\">\n",
       "      <th></th>\n",
       "      <th>時間戳記</th>\n",
       "      <th>Dept</th>\n",
       "      <th>Sex</th>\n",
       "      <th>Age</th>\n",
       "      <th>Home</th>\n",
       "      <th>GPA</th>\n",
       "      <th>FB</th>\n",
       "      <th>1.自己通常</th>\n",
       "      <th>2.別人通常</th>\n",
       "      <th>3.自己應該</th>\n",
       "      <th>...</th>\n",
       "      <th>a7</th>\n",
       "      <th>b3</th>\n",
       "      <th>b5</th>\n",
       "      <th>b7</th>\n",
       "      <th>c3</th>\n",
       "      <th>c5</th>\n",
       "      <th>c7</th>\n",
       "      <th>d3</th>\n",
       "      <th>d5</th>\n",
       "      <th>d7</th>\n",
       "    </tr>\n",
       "  </thead>\n",
       "  <tbody>\n",
       "    <tr>\n",
       "      <th>0</th>\n",
       "      <td>2017/05/23 8:56:25 下午 GMT+8</td>\n",
       "      <td>Eng</td>\n",
       "      <td>Male</td>\n",
       "      <td>20</td>\n",
       "      <td>South</td>\n",
       "      <td>3.0</td>\n",
       "      <td>吳孟軒</td>\n",
       "      <td>0</td>\n",
       "      <td>0</td>\n",
       "      <td>0</td>\n",
       "      <td>...</td>\n",
       "      <td>6.652000</td>\n",
       "      <td>2.900000</td>\n",
       "      <td>4.719000</td>\n",
       "      <td>6.687000</td>\n",
       "      <td>2.86800</td>\n",
       "      <td>4.660000</td>\n",
       "      <td>6.265000</td>\n",
       "      <td>2.85600</td>\n",
       "      <td>4.848000</td>\n",
       "      <td>6.58500</td>\n",
       "    </tr>\n",
       "    <tr>\n",
       "      <th>1</th>\n",
       "      <td>2017/05/23 9:37:09 下午 GMT+8</td>\n",
       "      <td>Bio</td>\n",
       "      <td>Female</td>\n",
       "      <td>18</td>\n",
       "      <td>North</td>\n",
       "      <td>3.0</td>\n",
       "      <td>子葳蘇</td>\n",
       "      <td>10</td>\n",
       "      <td>-0</td>\n",
       "      <td>0</td>\n",
       "      <td>...</td>\n",
       "      <td>7.053885</td>\n",
       "      <td>2.789525</td>\n",
       "      <td>4.743895</td>\n",
       "      <td>7.006110</td>\n",
       "      <td>2.36662</td>\n",
       "      <td>4.850765</td>\n",
       "      <td>7.291415</td>\n",
       "      <td>2.80084</td>\n",
       "      <td>4.797375</td>\n",
       "      <td>7.02220</td>\n",
       "    </tr>\n",
       "    <tr>\n",
       "      <th>2</th>\n",
       "      <td>2017/05/23 9:38:21 下午 GMT+8</td>\n",
       "      <td>Eng</td>\n",
       "      <td>Male</td>\n",
       "      <td>21</td>\n",
       "      <td>North</td>\n",
       "      <td>2.0</td>\n",
       "      <td>NaN</td>\n",
       "      <td>10</td>\n",
       "      <td>-0</td>\n",
       "      <td>0</td>\n",
       "      <td>...</td>\n",
       "      <td>7.998000</td>\n",
       "      <td>3.312000</td>\n",
       "      <td>5.014000</td>\n",
       "      <td>6.656000</td>\n",
       "      <td>2.68000</td>\n",
       "      <td>4.856000</td>\n",
       "      <td>6.792000</td>\n",
       "      <td>2.37200</td>\n",
       "      <td>4.984000</td>\n",
       "      <td>6.51100</td>\n",
       "    </tr>\n",
       "    <tr>\n",
       "      <th>3</th>\n",
       "      <td>2017/05/23 9:44:11 下午 GMT+8</td>\n",
       "      <td>Eng</td>\n",
       "      <td>Female</td>\n",
       "      <td>19</td>\n",
       "      <td>North</td>\n",
       "      <td>2.0</td>\n",
       "      <td>楊舒媛</td>\n",
       "      <td>0</td>\n",
       "      <td>-0</td>\n",
       "      <td>0</td>\n",
       "      <td>...</td>\n",
       "      <td>6.944000</td>\n",
       "      <td>3.149000</td>\n",
       "      <td>4.859000</td>\n",
       "      <td>7.169000</td>\n",
       "      <td>3.00000</td>\n",
       "      <td>5.361000</td>\n",
       "      <td>6.834000</td>\n",
       "      <td>2.80200</td>\n",
       "      <td>5.066000</td>\n",
       "      <td>6.86900</td>\n",
       "    </tr>\n",
       "    <tr>\n",
       "      <th>4</th>\n",
       "      <td>2017/05/23 9:44:58 下午 GMT+8</td>\n",
       "      <td>Bio</td>\n",
       "      <td>Female</td>\n",
       "      <td>19</td>\n",
       "      <td>Middle</td>\n",
       "      <td>3.0</td>\n",
       "      <td>NaN</td>\n",
       "      <td>0</td>\n",
       "      <td>-0</td>\n",
       "      <td>10</td>\n",
       "      <td>...</td>\n",
       "      <td>7.355795</td>\n",
       "      <td>3.099945</td>\n",
       "      <td>5.501730</td>\n",
       "      <td>8.665655</td>\n",
       "      <td>3.23273</td>\n",
       "      <td>5.502045</td>\n",
       "      <td>7.623655</td>\n",
       "      <td>3.13273</td>\n",
       "      <td>5.216860</td>\n",
       "      <td>7.53676</td>\n",
       "    </tr>\n",
       "  </tbody>\n",
       "</table>\n",
       "<p>5 rows × 27 columns</p>\n",
       "</div>"
      ],
      "text/plain": [
       "                          時間戳記 Dept     Sex  Age    Home  GPA   FB 1.自己通常  \\\n",
       "0  2017/05/23 8:56:25 下午 GMT+8  Eng    Male   20   South  3.0  吳孟軒      0   \n",
       "1  2017/05/23 9:37:09 下午 GMT+8  Bio  Female   18   North  3.0  子葳蘇     10   \n",
       "2  2017/05/23 9:38:21 下午 GMT+8  Eng    Male   21   North  2.0  NaN     10   \n",
       "3  2017/05/23 9:44:11 下午 GMT+8  Eng  Female   19   North  2.0  楊舒媛      0   \n",
       "4  2017/05/23 9:44:58 下午 GMT+8  Bio  Female   19  Middle  3.0  NaN      0   \n",
       "\n",
       "  2.別人通常 3.自己應該   ...           a7        b3        b5        b7       c3  \\\n",
       "0      0      0   ...     6.652000  2.900000  4.719000  6.687000  2.86800   \n",
       "1     -0      0   ...     7.053885  2.789525  4.743895  7.006110  2.36662   \n",
       "2     -0      0   ...     7.998000  3.312000  5.014000  6.656000  2.68000   \n",
       "3     -0      0   ...     6.944000  3.149000  4.859000  7.169000  3.00000   \n",
       "4     -0     10   ...     7.355795  3.099945  5.501730  8.665655  3.23273   \n",
       "\n",
       "         c5        c7       d3        d5       d7  \n",
       "0  4.660000  6.265000  2.85600  4.848000  6.58500  \n",
       "1  4.850765  7.291415  2.80084  4.797375  7.02220  \n",
       "2  4.856000  6.792000  2.37200  4.984000  6.51100  \n",
       "3  5.361000  6.834000  2.80200  5.066000  6.86900  \n",
       "4  5.502045  7.623655  3.13273  5.216860  7.53676  \n",
       "\n",
       "[5 rows x 27 columns]"
      ]
     },
     "execution_count": 7,
     "metadata": {},
     "output_type": "execute_result"
    }
   ],
   "source": [
    "feature.head()"
   ]
  },
  {
   "cell_type": "markdown",
   "metadata": {},
   "source": [
    "---------------------------------------\n",
    "<br>\n",
    "<br>\n",
    "# Raw data analizing"
   ]
  },
  {
   "cell_type": "code",
   "execution_count": 8,
   "metadata": {
    "collapsed": false
   },
   "outputs": [
    {
     "data": {
      "text/plain": [
       "Eng    74\n",
       "Lib    23\n",
       "Sci    19\n",
       "Bio    19\n",
       "Law    14\n",
       "Med    10\n",
       "Man     9\n",
       "Name: Dept, dtype: int64"
      ]
     },
     "execution_count": 8,
     "metadata": {},
     "output_type": "execute_result"
    }
   ],
   "source": [
    "feature.Dept.value_counts()"
   ]
  },
  {
   "cell_type": "code",
   "execution_count": 17,
   "metadata": {
    "collapsed": false
   },
   "outputs": [
    {
     "data": {
      "image/png": "[encoded data removed]",
      "text/plain": [
       "<matplotlib.figure.Figure at 0x10ee5ad30>"
      ]
     },
     "metadata": {},
     "output_type": "display_data"
    }
   ],
   "source": [
    "matplotlib.style.use('ggplot')\n",
    "plt.figure(figsize=(12,7))\n",
    "feature.Dept.value_counts().plot(kind='barh', width=0.5)\n",
    "plt.title('Dept')\n",
    "plt.xlabel('# of subjects')\n",
    "for i, v in enumerate(feature.Dept.value_counts()):\n",
    "\tplt.text(v + 2, i - 0.09, str(v), color='blue', fontweight='bold')"
   ]
  },
  {
   "cell_type": "markdown",
   "metadata": {},
   "source": [
    "abbr. | dept\n",
    "----- | ----------------\n",
    "Man   | 管理學院\n",
    "Med   | 醫學院 / 公衛學院\n",
    "Law   | 社科院 / 法學院\n",
    "Bio   | 生科院 / 生農學院\n",
    "Sci   | 理學院\n",
    "Lib   | 文學院\n",
    "Eng   | 工學院 / 電資院\n"
   ]
  },
  {
   "cell_type": "code",
   "execution_count": 16,
   "metadata": {
    "collapsed": false
   },
   "outputs": [
    {
     "data": {
      "text/plain": [
       "Male      104\n",
       "Female     63\n",
       "Other       1\n",
       "Name: Sex, dtype: int64"
      ]
     },
     "execution_count": 16,
     "metadata": {},
     "output_type": "execute_result"
    }
   ],
   "source": [
    "feature.Sex.value_counts()"
   ]
  },
  {
   "cell_type": "code",
   "execution_count": 18,
   "metadata": {
    "collapsed": false
   },
   "outputs": [
    {
     "data": {
      "image/png": "[encoded data removed]",
      "text/plain": [
       "<matplotlib.figure.Figure at 0x10ee09198>"
      ]
     },
     "metadata": {},
     "output_type": "display_data"
    }
   ],
   "source": [
    "plt.figure(figsize=(10,6))\n",
    "feature.Sex.value_counts().plot(kind='barh', width=0.5)\n",
    "plt.title('Sex')\n",
    "plt.xlabel('# of subjects')\n",
    "for i, v in enumerate(feature.Sex.value_counts()):\n",
    "\tplt.text(v + 2, i - 0.04, str(v), color='blue', fontweight='bold')"
   ]
  },
  {
   "cell_type": "code",
   "execution_count": null,
   "metadata": {
    "collapsed": true
   },
   "outputs": [],
   "source": []
  },
  {
   "cell_type": "code",
   "execution_count": null,
   "metadata": {
    "collapsed": true
   },
   "outputs": [],
   "source": []
  },
  {
   "cell_type": "code",
   "execution_count": 19,
   "metadata": {
    "collapsed": false
   },
   "outputs": [
    {
     "data": {
      "text/plain": [
       "North     90\n",
       "Middle    50\n",
       "South     25\n",
       "East       3\n",
       "Name: Home, dtype: int64"
      ]
     },
     "execution_count": 19,
     "metadata": {},
     "output_type": "execute_result"
    }
   ],
   "source": [
    "feature.Home.value_counts()"
   ]
  },
  {
   "cell_type": "code",
   "execution_count": 20,
   "metadata": {
    "collapsed": false
   },
   "outputs": [
    {
     "data": {
      "image/png": "[encoded data removed]",
      "text/plain": [
       "<matplotlib.figure.Figure at 0x10f0747b8>"
      ]
     },
     "metadata": {},
     "output_type": "display_data"
    }
   ],
   "source": [
    "plt.figure(figsize=(10,6))\n",
    "feature.Home.value_counts().plot(kind='barh', width=0.5)\n",
    "plt.title('Home')\n",
    "plt.xlabel('# of subjects')\n",
    "for i, v in enumerate(feature.Home.value_counts()):\n",
    "\tplt.text(v + 2, i - 0.05, str(v), color='blue', fontweight='bold')"
   ]
  },
  {
   "cell_type": "code",
   "execution_count": 21,
   "metadata": {
    "collapsed": false
   },
   "outputs": [
    {
     "data": {
      "text/plain": [
       "3.0    87\n",
       "4.0    31\n",
       "2.0    21\n",
       "0.0     7\n",
       "1.0     5\n",
       "Name: GPA, dtype: int64"
      ]
     },
     "execution_count": 21,
     "metadata": {},
     "output_type": "execute_result"
    }
   ],
   "source": [
    "feature.GPA.value_counts()"
   ]
  },
  {
   "cell_type": "code",
   "execution_count": 22,
   "metadata": {
    "collapsed": false
   },
   "outputs": [
    {
     "data": {
      "image/png": "[encoded data removed]",
      "text/plain": [
       "<matplotlib.figure.Figure at 0x10f1fcf28>"
      ]
     },
     "metadata": {},
     "output_type": "display_data"
    }
   ],
   "source": [
    "plt.figure(figsize=(10,6))\n",
    "feature.GPA.value_counts().plot(kind='barh', width=0.5)\n",
    "plt.title('GPA')\n",
    "plt.xlabel('# of subjects')\n",
    "for i, v in enumerate(feature.GPA.value_counts()):\n",
    "\tplt.text(v + 2, i - 0.065, str(v), color='blue', fontweight='bold')"
   ]
  },
  {
   "cell_type": "markdown",
   "metadata": {},
   "source": [
    "abbr. | GPA        | percentage\n",
    "----- | ---------- | -----------\n",
    "  0   | 0 ~ 1.7    |    - 60\n",
    "  1   | 1.7 ~ 2.3  | 60 - 69\n",
    "  2   | 2.3 ~ 3.3  | 69 - 79\n",
    "  3   | 3.3 ~ 4.0  | 79 - 89\n",
    "  4   | 4.0 ~ 4.3  | 89 -"
   ]
  },
  {
   "cell_type": "code",
   "execution_count": 23,
   "metadata": {
    "collapsed": false
   },
   "outputs": [
    {
     "data": {
      "text/html": [
       "<div>\n",
       "<table border=\"1\" class=\"dataframe\">\n",
       "  <thead>\n",
       "    <tr style=\"text-align: right;\">\n",
       "      <th></th>\n",
       "      <th>a3</th>\n",
       "      <th>a5</th>\n",
       "      <th>a7</th>\n",
       "      <th>b3</th>\n",
       "      <th>b5</th>\n",
       "      <th>b7</th>\n",
       "      <th>c3</th>\n",
       "      <th>c5</th>\n",
       "      <th>c7</th>\n",
       "      <th>d3</th>\n",
       "      <th>d5</th>\n",
       "      <th>d7</th>\n",
       "    </tr>\n",
       "  </thead>\n",
       "  <tbody>\n",
       "    <tr>\n",
       "      <th>count</th>\n",
       "      <td>168.000000</td>\n",
       "      <td>168.000000</td>\n",
       "      <td>168.000000</td>\n",
       "      <td>168.000000</td>\n",
       "      <td>168.000000</td>\n",
       "      <td>168.000000</td>\n",
       "      <td>168.000000</td>\n",
       "      <td>168.000000</td>\n",
       "      <td>168.000000</td>\n",
       "      <td>168.000000</td>\n",
       "      <td>168.000000</td>\n",
       "      <td>168.000000</td>\n",
       "    </tr>\n",
       "    <tr>\n",
       "      <th>mean</th>\n",
       "      <td>3.262299</td>\n",
       "      <td>4.889138</td>\n",
       "      <td>6.964949</td>\n",
       "      <td>3.027077</td>\n",
       "      <td>4.868097</td>\n",
       "      <td>6.922528</td>\n",
       "      <td>2.971004</td>\n",
       "      <td>4.882399</td>\n",
       "      <td>6.818683</td>\n",
       "      <td>2.918775</td>\n",
       "      <td>4.858048</td>\n",
       "      <td>6.918381</td>\n",
       "    </tr>\n",
       "    <tr>\n",
       "      <th>std</th>\n",
       "      <td>4.439371</td>\n",
       "      <td>0.687127</td>\n",
       "      <td>1.597777</td>\n",
       "      <td>0.680172</td>\n",
       "      <td>0.635542</td>\n",
       "      <td>0.881438</td>\n",
       "      <td>0.459517</td>\n",
       "      <td>0.596982</td>\n",
       "      <td>0.869307</td>\n",
       "      <td>0.532784</td>\n",
       "      <td>0.667504</td>\n",
       "      <td>1.113114</td>\n",
       "    </tr>\n",
       "    <tr>\n",
       "      <th>min</th>\n",
       "      <td>0.078000</td>\n",
       "      <td>0.121295</td>\n",
       "      <td>0.140605</td>\n",
       "      <td>0.140555</td>\n",
       "      <td>0.079855</td>\n",
       "      <td>0.099175</td>\n",
       "      <td>0.110160</td>\n",
       "      <td>0.099185</td>\n",
       "      <td>0.118500</td>\n",
       "      <td>0.101905</td>\n",
       "      <td>0.137820</td>\n",
       "      <td>0.053920</td>\n",
       "    </tr>\n",
       "    <tr>\n",
       "      <th>25%</th>\n",
       "      <td>2.783000</td>\n",
       "      <td>4.657269</td>\n",
       "      <td>6.535153</td>\n",
       "      <td>2.748644</td>\n",
       "      <td>4.596261</td>\n",
       "      <td>6.604766</td>\n",
       "      <td>2.778260</td>\n",
       "      <td>4.624043</td>\n",
       "      <td>6.491501</td>\n",
       "      <td>2.705636</td>\n",
       "      <td>4.607348</td>\n",
       "      <td>6.546899</td>\n",
       "    </tr>\n",
       "    <tr>\n",
       "      <th>50%</th>\n",
       "      <td>2.969410</td>\n",
       "      <td>4.933525</td>\n",
       "      <td>6.900635</td>\n",
       "      <td>2.986485</td>\n",
       "      <td>4.885267</td>\n",
       "      <td>6.960463</td>\n",
       "      <td>2.979000</td>\n",
       "      <td>4.871913</td>\n",
       "      <td>6.830343</td>\n",
       "      <td>2.946780</td>\n",
       "      <td>4.910103</td>\n",
       "      <td>7.008483</td>\n",
       "    </tr>\n",
       "    <tr>\n",
       "      <th>75%</th>\n",
       "      <td>3.159820</td>\n",
       "      <td>5.221226</td>\n",
       "      <td>7.289250</td>\n",
       "      <td>3.259250</td>\n",
       "      <td>5.162563</td>\n",
       "      <td>7.229110</td>\n",
       "      <td>3.220941</td>\n",
       "      <td>5.185282</td>\n",
       "      <td>7.221692</td>\n",
       "      <td>3.136363</td>\n",
       "      <td>5.158484</td>\n",
       "      <td>7.484394</td>\n",
       "    </tr>\n",
       "    <tr>\n",
       "      <th>max</th>\n",
       "      <td>60.159000</td>\n",
       "      <td>6.368000</td>\n",
       "      <td>24.065000</td>\n",
       "      <td>9.676110</td>\n",
       "      <td>6.400235</td>\n",
       "      <td>9.151890</td>\n",
       "      <td>4.175175</td>\n",
       "      <td>6.798185</td>\n",
       "      <td>9.644950</td>\n",
       "      <td>5.111800</td>\n",
       "      <td>6.369000</td>\n",
       "      <td>10.229265</td>\n",
       "    </tr>\n",
       "  </tbody>\n",
       "</table>\n",
       "</div>"
      ],
      "text/plain": [
       "               a3          a5          a7          b3          b5          b7  \\\n",
       "count  168.000000  168.000000  168.000000  168.000000  168.000000  168.000000   \n",
       "mean     3.262299    4.889138    6.964949    3.027077    4.868097    6.922528   \n",
       "std      4.439371    0.687127    1.597777    0.680172    0.635542    0.881438   \n",
       "min      0.078000    0.121295    0.140605    0.140555    0.079855    0.099175   \n",
       "25%      2.783000    4.657269    6.535153    2.748644    4.596261    6.604766   \n",
       "50%      2.969410    4.933525    6.900635    2.986485    4.885267    6.960463   \n",
       "75%      3.159820    5.221226    7.289250    3.259250    5.162563    7.229110   \n",
       "max     60.159000    6.368000   24.065000    9.676110    6.400235    9.151890   \n",
       "\n",
       "               c3          c5          c7          d3          d5          d7  \n",
       "count  168.000000  168.000000  168.000000  168.000000  168.000000  168.000000  \n",
       "mean     2.971004    4.882399    6.818683    2.918775    4.858048    6.918381  \n",
       "std      0.459517    0.596982    0.869307    0.532784    0.667504    1.113114  \n",
       "min      0.110160    0.099185    0.118500    0.101905    0.137820    0.053920  \n",
       "25%      2.778260    4.624043    6.491501    2.705636    4.607348    6.546899  \n",
       "50%      2.979000    4.871913    6.830343    2.946780    4.910103    7.008483  \n",
       "75%      3.220941    5.185282    7.221692    3.136363    5.158484    7.484394  \n",
       "max      4.175175    6.798185    9.644950    5.111800    6.369000   10.229265  "
      ]
     },
     "execution_count": 23,
     "metadata": {},
     "output_type": "execute_result"
    }
   ],
   "source": [
    "feature.ix[:, 'a3':'d7'].describe()"
   ]
  },
  {
   "cell_type": "markdown",
   "metadata": {},
   "source": [
    "---------------------------------------\n",
    "<br>\n",
    "<br>\n",
    "## Data processing"
   ]
  },
  {
   "cell_type": "code",
   "execution_count": 26,
   "metadata": {
    "collapsed": false
   },
   "outputs": [],
   "source": [
    "real = np.array([3,5,7]*4)\n",
    "dirty = np.round(0.05*feature.shape[0]).astype(\"int\") + 1"
   ]
  },
  {
   "cell_type": "markdown",
   "metadata": {},
   "source": [
    "Drop 5% of each feature (from 'a3' to 'd7')."
   ]
  },
  {
   "cell_type": "code",
   "execution_count": 27,
   "metadata": {
    "collapsed": true
   },
   "outputs": [],
   "source": [
    "for i, ft in enumerate(header[-12:]):\n",
    "\traw = feature[ft].values\n",
    "\traw = np.abs(raw - real[i])\n",
    "\traw.sort()\n",
    "\tbound = raw[-dirty]\n",
    "\tfeature.loc[ (feature[ft] > real[i] + bound) | (feature[ft] < real[i] - bound) , ft ] = np.nan"
   ]
  },
  {
   "cell_type": "code",
   "execution_count": 28,
   "metadata": {
    "collapsed": false
   },
   "outputs": [
    {
     "data": {
      "text/html": [
       "<div>\n",
       "<table border=\"1\" class=\"dataframe\">\n",
       "  <thead>\n",
       "    <tr style=\"text-align: right;\">\n",
       "      <th></th>\n",
       "      <th>a3</th>\n",
       "      <th>a5</th>\n",
       "      <th>a7</th>\n",
       "      <th>b3</th>\n",
       "      <th>b5</th>\n",
       "      <th>b7</th>\n",
       "      <th>c3</th>\n",
       "      <th>c5</th>\n",
       "      <th>c7</th>\n",
       "      <th>d3</th>\n",
       "      <th>d5</th>\n",
       "      <th>d7</th>\n",
       "    </tr>\n",
       "  </thead>\n",
       "  <tbody>\n",
       "    <tr>\n",
       "      <th>count</th>\n",
       "      <td>160.000000</td>\n",
       "      <td>160.000000</td>\n",
       "      <td>160.000000</td>\n",
       "      <td>160.000000</td>\n",
       "      <td>160.000000</td>\n",
       "      <td>160.000000</td>\n",
       "      <td>160.000000</td>\n",
       "      <td>160.000000</td>\n",
       "      <td>160.000000</td>\n",
       "      <td>160.000000</td>\n",
       "      <td>160.000000</td>\n",
       "      <td>160.000000</td>\n",
       "    </tr>\n",
       "    <tr>\n",
       "      <th>mean</th>\n",
       "      <td>2.972465</td>\n",
       "      <td>4.944133</td>\n",
       "      <td>6.914260</td>\n",
       "      <td>2.989669</td>\n",
       "      <td>4.903942</td>\n",
       "      <td>6.930518</td>\n",
       "      <td>2.992859</td>\n",
       "      <td>4.909034</td>\n",
       "      <td>6.875158</td>\n",
       "      <td>2.948272</td>\n",
       "      <td>4.907829</td>\n",
       "      <td>7.060566</td>\n",
       "    </tr>\n",
       "    <tr>\n",
       "      <th>std</th>\n",
       "      <td>0.296001</td>\n",
       "      <td>0.426236</td>\n",
       "      <td>0.587195</td>\n",
       "      <td>0.340565</td>\n",
       "      <td>0.440790</td>\n",
       "      <td>0.601353</td>\n",
       "      <td>0.351804</td>\n",
       "      <td>0.387881</td>\n",
       "      <td>0.535512</td>\n",
       "      <td>0.350135</td>\n",
       "      <td>0.401630</td>\n",
       "      <td>0.646224</td>\n",
       "    </tr>\n",
       "    <tr>\n",
       "      <th>min</th>\n",
       "      <td>2.212000</td>\n",
       "      <td>4.010000</td>\n",
       "      <td>5.482880</td>\n",
       "      <td>2.189600</td>\n",
       "      <td>3.905995</td>\n",
       "      <td>5.341325</td>\n",
       "      <td>2.066165</td>\n",
       "      <td>4.008940</td>\n",
       "      <td>5.596765</td>\n",
       "      <td>2.159360</td>\n",
       "      <td>3.921000</td>\n",
       "      <td>5.011290</td>\n",
       "    </tr>\n",
       "    <tr>\n",
       "      <th>25%</th>\n",
       "      <td>2.800775</td>\n",
       "      <td>4.681501</td>\n",
       "      <td>6.579208</td>\n",
       "      <td>2.754116</td>\n",
       "      <td>4.621134</td>\n",
       "      <td>6.607514</td>\n",
       "      <td>2.791770</td>\n",
       "      <td>4.632019</td>\n",
       "      <td>6.504826</td>\n",
       "      <td>2.738302</td>\n",
       "      <td>4.650549</td>\n",
       "      <td>6.604627</td>\n",
       "    </tr>\n",
       "    <tr>\n",
       "      <th>50%</th>\n",
       "      <td>2.976525</td>\n",
       "      <td>4.937060</td>\n",
       "      <td>6.900635</td>\n",
       "      <td>2.983600</td>\n",
       "      <td>4.893622</td>\n",
       "      <td>6.958810</td>\n",
       "      <td>2.981500</td>\n",
       "      <td>4.877458</td>\n",
       "      <td>6.833843</td>\n",
       "      <td>2.950900</td>\n",
       "      <td>4.911270</td>\n",
       "      <td>7.024798</td>\n",
       "    </tr>\n",
       "    <tr>\n",
       "      <th>75%</th>\n",
       "      <td>3.159820</td>\n",
       "      <td>5.212397</td>\n",
       "      <td>7.280899</td>\n",
       "      <td>3.248089</td>\n",
       "      <td>5.160437</td>\n",
       "      <td>7.187989</td>\n",
       "      <td>3.216328</td>\n",
       "      <td>5.176740</td>\n",
       "      <td>7.204250</td>\n",
       "      <td>3.129032</td>\n",
       "      <td>5.150000</td>\n",
       "      <td>7.490813</td>\n",
       "    </tr>\n",
       "    <tr>\n",
       "      <th>max</th>\n",
       "      <td>3.665425</td>\n",
       "      <td>6.124695</td>\n",
       "      <td>8.600410</td>\n",
       "      <td>3.823910</td>\n",
       "      <td>6.111230</td>\n",
       "      <td>8.665655</td>\n",
       "      <td>3.925220</td>\n",
       "      <td>5.847000</td>\n",
       "      <td>8.271000</td>\n",
       "      <td>3.947000</td>\n",
       "      <td>6.070150</td>\n",
       "      <td>8.943540</td>\n",
       "    </tr>\n",
       "  </tbody>\n",
       "</table>\n",
       "</div>"
      ],
      "text/plain": [
       "               a3          a5          a7          b3          b5          b7  \\\n",
       "count  160.000000  160.000000  160.000000  160.000000  160.000000  160.000000   \n",
       "mean     2.972465    4.944133    6.914260    2.989669    4.903942    6.930518   \n",
       "std      0.296001    0.426236    0.587195    0.340565    0.440790    0.601353   \n",
       "min      2.212000    4.010000    5.482880    2.189600    3.905995    5.341325   \n",
       "25%      2.800775    4.681501    6.579208    2.754116    4.621134    6.607514   \n",
       "50%      2.976525    4.937060    6.900635    2.983600    4.893622    6.958810   \n",
       "75%      3.159820    5.212397    7.280899    3.248089    5.160437    7.187989   \n",
       "max      3.665425    6.124695    8.600410    3.823910    6.111230    8.665655   \n",
       "\n",
       "               c3          c5          c7          d3          d5          d7  \n",
       "count  160.000000  160.000000  160.000000  160.000000  160.000000  160.000000  \n",
       "mean     2.992859    4.909034    6.875158    2.948272    4.907829    7.060566  \n",
       "std      0.351804    0.387881    0.535512    0.350135    0.401630    0.646224  \n",
       "min      2.066165    4.008940    5.596765    2.159360    3.921000    5.011290  \n",
       "25%      2.791770    4.632019    6.504826    2.738302    4.650549    6.604627  \n",
       "50%      2.981500    4.877458    6.833843    2.950900    4.911270    7.024798  \n",
       "75%      3.216328    5.176740    7.204250    3.129032    5.150000    7.490813  \n",
       "max      3.925220    5.847000    8.271000    3.947000    6.070150    8.943540  "
      ]
     },
     "execution_count": 28,
     "metadata": {},
     "output_type": "execute_result"
    }
   ],
   "source": [
    "feature.ix[:, 'a3':'d7'].describe()"
   ]
  },
  {
   "cell_type": "code",
   "execution_count": 29,
   "metadata": {
    "collapsed": true
   },
   "outputs": [],
   "source": [
    "decimals = pd.Series([1]*12, index=header[-12:])\n",
    "feature = feature.round(decimals)"
   ]
  },
  {
   "cell_type": "markdown",
   "metadata": {},
   "source": [
    "Round the time to the first digit after the decimal point."
   ]
  },
  {
   "cell_type": "code",
   "execution_count": 30,
   "metadata": {
    "collapsed": true
   },
   "outputs": [],
   "source": [
    "for i, ft in enumerate(header[-12:]):\n",
    "\tfeature.loc[ :, ft ] = feature.ix[:, ft] - real[i]"
   ]
  },
  {
   "cell_type": "code",
   "execution_count": 33,
   "metadata": {
    "collapsed": false
   },
   "outputs": [
    {
     "data": {
      "image/png": "[encoded data removed]",
      "text/plain": [
       "<matplotlib.figure.Figure at 0x10fe83e48>"
      ]
     },
     "metadata": {},
     "output_type": "display_data"
    }
   ],
   "source": [
    "df = feature.ix[:, 'a3':'d7']\n",
    "MIN = df.min().min()\n",
    "MAX = df.max().max()\n",
    "bins = np.arange(MIN, MAX, 0.1)\n",
    "c = ['r', 'g', 'b']\n",
    "\n",
    "fig = plt.figure( figsize=(14,10) )\n",
    "for i in range(4):\n",
    "\tax = fig.add_subplot(2, 2, i+1)\n",
    "\tfor k, ft in enumerate(header[i*3+15:(i+1)*3+15]):\n",
    "\t\tax.hist(df[ft].dropna(), color=c[k], bins=bins, alpha=0.2, edgecolor='gray')\n",
    "\tplt.xlabel( header[i*3+15][0] )\n",
    "\tplt.tight_layout()\n",
    "\tplt.legend( header[i*3+15:(i+1)*3+15] )"
   ]
  },
  {
   "cell_type": "code",
   "execution_count": 37,
   "metadata": {
    "collapsed": false
   },
   "outputs": [
    {
     "data": {
      "text/plain": [
       "<matplotlib.axes._subplots.AxesSubplot at 0x1124f04e0>"
      ]
     },
     "execution_count": 37,
     "metadata": {},
     "output_type": "execute_result"
    },
    {
     "data": {
      "image/png": "[encoded data removed]",
      "text/plain": [
       "<matplotlib.figure.Figure at 0x1124b5ba8>"
      ]
     },
     "metadata": {},
     "output_type": "display_data"
    }
   ],
   "source": [
    "fig = plt.figure( figsize=(12,10) )\n",
    "corr = feature.ix[:, 'a3':'d7'].corr()\n",
    "sns.heatmap(corr, xticklabels=corr.columns.values, yticklabels=corr.columns.values)"
   ]
  },
  {
   "cell_type": "code",
   "execution_count": null,
   "metadata": {
    "collapsed": true
   },
   "outputs": [],
   "source": []
  },
  {
   "cell_type": "code",
   "execution_count": null,
   "metadata": {
    "collapsed": true
   },
   "outputs": [],
   "source": []
  }
 ],
 "metadata": {
  "kernelspec": {
   "display_name": "Python 3",
   "language": "python",
   "name": "python3"
  },
  "language_info": {
   "codemirror_mode": {
    "name": "ipython",
    "version": 3
   },
   "file_extension": ".py",
   "mimetype": "text/x-python",
   "name": "python",
   "nbconvert_exporter": "python",
   "pygments_lexer": "ipython3",
   "version": "3.6.0"
  }
 },
 "nbformat": 4,
 "nbformat_minor": 2
}
